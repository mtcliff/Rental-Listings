{
 "cells": [
  {
   "cell_type": "code",
   "execution_count": 1,
   "metadata": {
    "collapsed": true
   },
   "outputs": [],
   "source": [
    "import pandas as pd\n",
    "import numpy as np"
   ]
  },
  {
   "cell_type": "code",
   "execution_count": 2,
   "metadata": {
    "collapsed": false
   },
   "outputs": [],
   "source": [
    "duplist = pd.read_csv('infile.csv')"
   ]
  },
  {
   "cell_type": "code",
   "execution_count": 4,
   "metadata": {
    "collapsed": false
   },
   "outputs": [],
   "source": [
    "duplist['dup_tbal'] = np.zeros(len(duplist.index))\n",
    "duplist = duplist.sort_values(by='title')\n",
    "duplist = duplist.reset_index(drop=True)\n",
    "duplist = duplist.drop('Unnamed: 0', 1)"
   ]
  },
  {
   "cell_type": "code",
   "execution_count": 5,
   "metadata": {
    "collapsed": true
   },
   "outputs": [],
   "source": [
    "def condition(roundit, row, r):\n",
    "    if roundit == 'no' :\n",
    "        x = 'X'\n",
    "        y = 'Y'\n",
    "    elif roundit == 2 :\n",
    "        x = 'X_round_2'\n",
    "        y = 'Y_round_2'\n",
    "    elif roundit == 3 :\n",
    "        x = 'X_round_3'\n",
    "        y = 'Y_round_3'\n",
    "    elif roundit == 4 :\n",
    "        x = 'X_round_4'\n",
    "        y = 'Y_round_4'\n",
    "    return (duplist.loc[row, {x, y, 'bedrooms', 'title'}] == duplist.loc[r, {x, y, 'bedrooms', 'title'}]).all() and duplist.loc[row, 'ask'] == duplist.loc[r, 'ask']      "
   ]
  },
  {
   "cell_type": "code",
   "execution_count": 6,
   "metadata": {
    "collapsed": true
   },
   "outputs": [],
   "source": [
    "roundit = 'no'"
   ]
  },
  {
   "cell_type": "code",
   "execution_count": 7,
   "metadata": {
    "collapsed": true
   },
   "outputs": [],
   "source": [
    "i = 1\n",
    "row = 0\n",
    "while row < len(duplist.index) :\n",
    "    duplist.loc[row, 'dup_tbal'] = i\n",
    "    j = 1\n",
    "    r = row + j\n",
    "    while (r < len(duplist.index)) and condition(roundit, row, r) :\n",
    "        duplist.loc[r, 'dup_tbal'] = i\n",
    "        j += 1\n",
    "        r = row + j\n",
    "    row = r\n",
    "    i += 1"
   ]
  },
  {
   "cell_type": "code",
   "execution_count": 8,
   "metadata": {
    "collapsed": true
   },
   "outputs": [],
   "source": [
    "duplist.to_csv('outfile.csv')"
   ]
  }
 ],
 "metadata": {
  "kernelspec": {
   "display_name": "Python 3",
   "language": "python",
   "name": "python3"
  },
  "language_info": {
   "codemirror_mode": {
    "name": "ipython",
    "version": 3
   },
   "file_extension": ".py",
   "mimetype": "text/x-python",
   "name": "python",
   "nbconvert_exporter": "python",
   "pygments_lexer": "ipython3",
   "version": "3.4.3"
  }
 },
 "nbformat": 4,
 "nbformat_minor": 0
}
