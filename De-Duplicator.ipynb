{
 "cells": [
  {
   "cell_type": "code",
   "execution_count": 1,
   "metadata": {
    "collapsed": false,
    "scrolled": true
   },
   "outputs": [],
   "source": [
    "import pandas as pd\n",
    "import numpy as np"
   ]
  },
  {
   "cell_type": "code",
   "execution_count": 2,
   "metadata": {
    "collapsed": false
   },
   "outputs": [],
   "source": [
    "duplist = pd.read_csv('in_file.csv')"
   ]
  },
  {
   "cell_type": "code",
   "execution_count": 4,
   "metadata": {
    "collapsed": false
   },
   "outputs": [],
   "source": [
    "duplist['dup_tba'] = np.zeros(len(duplist.index))\n",
    "duplist = duplist.sort_values(by='title')\n",
    "duplist = duplist.reset_index(drop=True)\n",
    "duplist = duplist.drop('Unnamed: 0', 1)"
   ]
  },
  {
   "cell_type": "code",
   "execution_count": 5,
   "metadata": {
    "collapsed": false
   },
   "outputs": [],
   "source": [
    "def condition(col, row, r):\n",
    "    if col == 't' :\n",
    "        return duplist.loc[row, 'title'] == duplist.loc[r, 'title']\n",
    "    elif col == 'b' :\n",
    "        return duplist.loc[row, 'bedrooms'] == duplist.loc[r, 'bedrooms']\n",
    "    elif col == 'a' :\n",
    "        return duplist.loc[row, 'ask'] == duplist.loc[r, 'ask']\n",
    "    elif col == 'l' :\n",
    "        return duplist.loc[row, 'location'] == duplist.loc[r, 'location']\n",
    "    elif col == 'd' :\n",
    "        return duplist.loc[row, 'posting_date'] == duplist.loc[r, 'posting_date']\n",
    "    elif col == 'tb' :\n",
    "        return condition('t', row, r) and condition('b', row, r)\n",
    "    elif col == 'tba' :\n",
    "        return condition('tb', row, r) and condition('a', row, r)\n",
    "    elif col == 'tbl' :\n",
    "        return condition('tb', row, r) and condition('l', row, r)\n",
    "    elif col == 'tbal' :\n",
    "        return (duplist.loc[row, {'location', 'ask', 'bedrooms', 'title'}] == duplist.loc[r, {'location', 'ask', 'bedrooms', 'title'}]).all()\n",
    "    elif col == 'tbad' :\n",
    "        return (duplist.loc[row, {'ask', 'bedrooms', 'title', 'posting_date'}] == duplist.loc[r, {'ask', 'bedrooms', 'title', 'posting_date'}]).all()\n",
    "    elif col == 'tbald' :\n",
    "        return (duplist.loc[row, {'location', 'ask', 'bedrooms', 'title', 'posting_date'}] == duplist.loc[r, {'location', 'ask', 'bedrooms', 'title', 'posting_date'}]).all()\n",
    "    else :\n",
    "        return False"
   ]
  },
  {
   "cell_type": "code",
   "execution_count": 6,
   "metadata": {
    "collapsed": false
   },
   "outputs": [],
   "source": [
    "columns = 't'"
   ]
  },
  {
   "cell_type": "code",
   "execution_count": 7,
   "metadata": {
    "collapsed": false
   },
   "outputs": [],
   "source": [
    "i = 0\n",
    "row = 0\n",
    "while row < len(duplist.index) :\n",
    "    duplist.loc[row, 'dup_tba'] = i\n",
    "    j = 1\n",
    "    r = row + j\n",
    "    while (r < len(duplist.index)) and condition(columns, row, r) :\n",
    "        duplist.loc[r, 'dup_tba'] = i\n",
    "        j += 1\n",
    "        r = row + j\n",
    "    row = r\n",
    "    i += 1"
   ]
  },
  {
   "cell_type": "code",
   "execution_count": 8,
   "metadata": {
    "collapsed": false
   },
   "outputs": [],
   "source": [
    "duplist.to_csv('out_file.csv')"
   ]
  }
 ],
 "metadata": {
  "kernelspec": {
   "display_name": "Python 3",
   "language": "python",
   "name": "python3"
  },
  "language_info": {
   "codemirror_mode": {
    "name": "ipython",
    "version": 3
   },
   "file_extension": ".py",
   "mimetype": "text/x-python",
   "name": "python",
   "nbconvert_exporter": "python",
   "pygments_lexer": "ipython3",
   "version": "3.4.3"
  }
 },
 "nbformat": 4,
 "nbformat_minor": 0
}
